{
 "cells": [
  {
   "cell_type": "markdown",
   "id": "b2467c5d",
   "metadata": {},
   "source": [
    "## 01 - EDA\n",
    "\n",
    "Análisis de empleado."
   ]
  },
  {
   "cell_type": "code",
   "execution_count": 24,
   "id": "e18ae7bd",
   "metadata": {},
   "outputs": [],
   "source": [
    "import pandas as pd\n",
    "\n",
    "pd.set_option('display.max_columns', None)\n",
    "\n",
    "import re\n",
    "\n",
    "import pylab as plt\n",
    "import seaborn as sns\n",
    "%matplotlib inline"
   ]
  },
  {
   "cell_type": "code",
   "execution_count": 25,
   "id": "421cde65",
   "metadata": {},
   "outputs": [
    {
     "data": {
      "text/html": [
       "<div>\n",
       "<style scoped>\n",
       "    .dataframe tbody tr th:only-of-type {\n",
       "        vertical-align: middle;\n",
       "    }\n",
       "\n",
       "    .dataframe tbody tr th {\n",
       "        vertical-align: top;\n",
       "    }\n",
       "\n",
       "    .dataframe thead th {\n",
       "        text-align: right;\n",
       "    }\n",
       "</style>\n",
       "<table border=\"1\" class=\"dataframe\">\n",
       "  <thead>\n",
       "    <tr style=\"text-align: right;\">\n",
       "      <th></th>\n",
       "      <th>Employee Name</th>\n",
       "      <th>Employee Number</th>\n",
       "      <th>State</th>\n",
       "      <th>Zip</th>\n",
       "      <th>DOB</th>\n",
       "      <th>Age</th>\n",
       "      <th>Sex</th>\n",
       "      <th>MaritalDesc</th>\n",
       "      <th>CitizenDesc</th>\n",
       "      <th>Hispanic/Latino</th>\n",
       "      <th>RaceDesc</th>\n",
       "      <th>Date of Hire</th>\n",
       "      <th>Date of Termination</th>\n",
       "      <th>Reason For Term</th>\n",
       "      <th>Employment Status</th>\n",
       "      <th>Department</th>\n",
       "      <th>Position</th>\n",
       "      <th>Pay Rate</th>\n",
       "      <th>Manager Name</th>\n",
       "      <th>Employee Source</th>\n",
       "      <th>Performance Score</th>\n",
       "    </tr>\n",
       "  </thead>\n",
       "  <tbody>\n",
       "    <tr>\n",
       "      <th>0</th>\n",
       "      <td>Brown, Mia</td>\n",
       "      <td>1.103024e+09</td>\n",
       "      <td>MA</td>\n",
       "      <td>1450.0</td>\n",
       "      <td>11/24/85</td>\n",
       "      <td>32.0</td>\n",
       "      <td>Female</td>\n",
       "      <td>Married</td>\n",
       "      <td>US Citizen</td>\n",
       "      <td>No</td>\n",
       "      <td>Black or African American</td>\n",
       "      <td>10/27/08</td>\n",
       "      <td>NaN</td>\n",
       "      <td>N/A - still employed</td>\n",
       "      <td>Active</td>\n",
       "      <td>Admin Offices</td>\n",
       "      <td>Accountant I</td>\n",
       "      <td>28.50</td>\n",
       "      <td>Brandon R. LeBlanc</td>\n",
       "      <td>Diversity Job Fair</td>\n",
       "      <td>Fully Meets</td>\n",
       "    </tr>\n",
       "    <tr>\n",
       "      <th>1</th>\n",
       "      <td>LaRotonda, William</td>\n",
       "      <td>1.106027e+09</td>\n",
       "      <td>MA</td>\n",
       "      <td>1460.0</td>\n",
       "      <td>4/26/84</td>\n",
       "      <td>33.0</td>\n",
       "      <td>Male</td>\n",
       "      <td>Divorced</td>\n",
       "      <td>US Citizen</td>\n",
       "      <td>No</td>\n",
       "      <td>Black or African American</td>\n",
       "      <td>1/6/14</td>\n",
       "      <td>NaN</td>\n",
       "      <td>N/A - still employed</td>\n",
       "      <td>Active</td>\n",
       "      <td>Admin Offices</td>\n",
       "      <td>Accountant I</td>\n",
       "      <td>23.00</td>\n",
       "      <td>Brandon R. LeBlanc</td>\n",
       "      <td>Website Banner Ads</td>\n",
       "      <td>Fully Meets</td>\n",
       "    </tr>\n",
       "    <tr>\n",
       "      <th>2</th>\n",
       "      <td>Steans, Tyrone</td>\n",
       "      <td>1.302053e+09</td>\n",
       "      <td>MA</td>\n",
       "      <td>2703.0</td>\n",
       "      <td>9/1/86</td>\n",
       "      <td>31.0</td>\n",
       "      <td>Male</td>\n",
       "      <td>Single</td>\n",
       "      <td>US Citizen</td>\n",
       "      <td>No</td>\n",
       "      <td>White</td>\n",
       "      <td>9/29/14</td>\n",
       "      <td>NaN</td>\n",
       "      <td>N/A - still employed</td>\n",
       "      <td>Active</td>\n",
       "      <td>Admin Offices</td>\n",
       "      <td>Accountant I</td>\n",
       "      <td>29.00</td>\n",
       "      <td>Brandon R. LeBlanc</td>\n",
       "      <td>Internet Search</td>\n",
       "      <td>Fully Meets</td>\n",
       "    </tr>\n",
       "    <tr>\n",
       "      <th>3</th>\n",
       "      <td>Howard, Estelle</td>\n",
       "      <td>1.211051e+09</td>\n",
       "      <td>MA</td>\n",
       "      <td>2170.0</td>\n",
       "      <td>9/16/85</td>\n",
       "      <td>32.0</td>\n",
       "      <td>Female</td>\n",
       "      <td>Married</td>\n",
       "      <td>US Citizen</td>\n",
       "      <td>No</td>\n",
       "      <td>White</td>\n",
       "      <td>2/16/15</td>\n",
       "      <td>4/15/15</td>\n",
       "      <td>N/A - still employed</td>\n",
       "      <td>Active</td>\n",
       "      <td>Admin Offices</td>\n",
       "      <td>Administrative Assistant</td>\n",
       "      <td>21.50</td>\n",
       "      <td>Brandon R. LeBlanc</td>\n",
       "      <td>Pay Per Click - Google</td>\n",
       "      <td>N/A- too early to review</td>\n",
       "    </tr>\n",
       "    <tr>\n",
       "      <th>4</th>\n",
       "      <td>Singh, Nan</td>\n",
       "      <td>1.307060e+09</td>\n",
       "      <td>MA</td>\n",
       "      <td>2330.0</td>\n",
       "      <td>5/19/88</td>\n",
       "      <td>29.0</td>\n",
       "      <td>Female</td>\n",
       "      <td>Single</td>\n",
       "      <td>US Citizen</td>\n",
       "      <td>No</td>\n",
       "      <td>White</td>\n",
       "      <td>5/1/15</td>\n",
       "      <td>NaN</td>\n",
       "      <td>N/A - still employed</td>\n",
       "      <td>Active</td>\n",
       "      <td>Admin Offices</td>\n",
       "      <td>Administrative Assistant</td>\n",
       "      <td>16.56</td>\n",
       "      <td>Brandon R. LeBlanc</td>\n",
       "      <td>Website Banner Ads</td>\n",
       "      <td>N/A- too early to review</td>\n",
       "    </tr>\n",
       "  </tbody>\n",
       "</table>\n",
       "</div>"
      ],
      "text/plain": [
       "          Employee Name  Employee Number State     Zip       DOB   Age  \\\n",
       "0            Brown, Mia     1.103024e+09    MA  1450.0  11/24/85  32.0   \n",
       "1  LaRotonda, William       1.106027e+09    MA  1460.0   4/26/84  33.0   \n",
       "2      Steans, Tyrone       1.302053e+09    MA  2703.0    9/1/86  31.0   \n",
       "3       Howard, Estelle     1.211051e+09    MA  2170.0   9/16/85  32.0   \n",
       "4           Singh, Nan      1.307060e+09    MA  2330.0   5/19/88  29.0   \n",
       "\n",
       "      Sex MaritalDesc CitizenDesc Hispanic/Latino                   RaceDesc  \\\n",
       "0  Female     Married  US Citizen              No  Black or African American   \n",
       "1    Male    Divorced  US Citizen              No  Black or African American   \n",
       "2    Male      Single  US Citizen              No                      White   \n",
       "3  Female     Married  US Citizen              No                      White   \n",
       "4  Female      Single  US Citizen              No                      White   \n",
       "\n",
       "  Date of Hire Date of Termination       Reason For Term Employment Status  \\\n",
       "0     10/27/08                 NaN  N/A - still employed            Active   \n",
       "1       1/6/14                 NaN  N/A - still employed            Active   \n",
       "2      9/29/14                 NaN  N/A - still employed            Active   \n",
       "3      2/16/15             4/15/15  N/A - still employed            Active   \n",
       "4       5/1/15                 NaN  N/A - still employed            Active   \n",
       "\n",
       "      Department                  Position  Pay Rate        Manager Name  \\\n",
       "0  Admin Offices              Accountant I     28.50  Brandon R. LeBlanc   \n",
       "1  Admin Offices              Accountant I     23.00  Brandon R. LeBlanc   \n",
       "2  Admin Offices              Accountant I     29.00  Brandon R. LeBlanc   \n",
       "3  Admin Offices  Administrative Assistant     21.50  Brandon R. LeBlanc   \n",
       "4  Admin Offices  Administrative Assistant     16.56  Brandon R. LeBlanc   \n",
       "\n",
       "          Employee Source         Performance Score  \n",
       "0      Diversity Job Fair               Fully Meets  \n",
       "1      Website Banner Ads               Fully Meets  \n",
       "2         Internet Search               Fully Meets  \n",
       "3  Pay Per Click - Google  N/A- too early to review  \n",
       "4      Website Banner Ads  N/A- too early to review  "
      ]
     },
     "execution_count": 25,
     "metadata": {},
     "output_type": "execute_result"
    }
   ],
   "source": [
    "data=pd.read_csv('../data/HR_dataset.csv')\n",
    "\n",
    "data.head()"
   ]
  },
  {
   "cell_type": "code",
   "execution_count": 26,
   "id": "03bfaabf",
   "metadata": {},
   "outputs": [
    {
     "data": {
      "text/html": [
       "<div>\n",
       "<style scoped>\n",
       "    .dataframe tbody tr th:only-of-type {\n",
       "        vertical-align: middle;\n",
       "    }\n",
       "\n",
       "    .dataframe tbody tr th {\n",
       "        vertical-align: top;\n",
       "    }\n",
       "\n",
       "    .dataframe thead th {\n",
       "        text-align: right;\n",
       "    }\n",
       "</style>\n",
       "<table border=\"1\" class=\"dataframe\">\n",
       "  <thead>\n",
       "    <tr style=\"text-align: right;\">\n",
       "      <th></th>\n",
       "      <th>employee_name</th>\n",
       "      <th>employee_number</th>\n",
       "      <th>state</th>\n",
       "      <th>zip</th>\n",
       "      <th>d_o_b</th>\n",
       "      <th>age</th>\n",
       "      <th>sex</th>\n",
       "      <th>marital_desc</th>\n",
       "      <th>citizen_desc</th>\n",
       "      <th>hispanic_latino</th>\n",
       "      <th>race_desc</th>\n",
       "      <th>dateof_hire</th>\n",
       "      <th>dateof_termination</th>\n",
       "      <th>reason_for_term</th>\n",
       "      <th>employment_status</th>\n",
       "      <th>department</th>\n",
       "      <th>position</th>\n",
       "      <th>pay_rate</th>\n",
       "      <th>manager_name</th>\n",
       "      <th>employee_source</th>\n",
       "      <th>performance_score</th>\n",
       "    </tr>\n",
       "  </thead>\n",
       "  <tbody>\n",
       "    <tr>\n",
       "      <th>0</th>\n",
       "      <td>Brown, Mia</td>\n",
       "      <td>1.103024e+09</td>\n",
       "      <td>MA</td>\n",
       "      <td>1450.0</td>\n",
       "      <td>11/24/85</td>\n",
       "      <td>32.0</td>\n",
       "      <td>Female</td>\n",
       "      <td>Married</td>\n",
       "      <td>US Citizen</td>\n",
       "      <td>No</td>\n",
       "      <td>Black or African American</td>\n",
       "      <td>10/27/08</td>\n",
       "      <td>NaN</td>\n",
       "      <td>N/A - still employed</td>\n",
       "      <td>Active</td>\n",
       "      <td>Admin Offices</td>\n",
       "      <td>Accountant I</td>\n",
       "      <td>28.50</td>\n",
       "      <td>Brandon R. LeBlanc</td>\n",
       "      <td>Diversity Job Fair</td>\n",
       "      <td>Fully Meets</td>\n",
       "    </tr>\n",
       "    <tr>\n",
       "      <th>1</th>\n",
       "      <td>LaRotonda, William</td>\n",
       "      <td>1.106027e+09</td>\n",
       "      <td>MA</td>\n",
       "      <td>1460.0</td>\n",
       "      <td>4/26/84</td>\n",
       "      <td>33.0</td>\n",
       "      <td>Male</td>\n",
       "      <td>Divorced</td>\n",
       "      <td>US Citizen</td>\n",
       "      <td>No</td>\n",
       "      <td>Black or African American</td>\n",
       "      <td>1/6/14</td>\n",
       "      <td>NaN</td>\n",
       "      <td>N/A - still employed</td>\n",
       "      <td>Active</td>\n",
       "      <td>Admin Offices</td>\n",
       "      <td>Accountant I</td>\n",
       "      <td>23.00</td>\n",
       "      <td>Brandon R. LeBlanc</td>\n",
       "      <td>Website Banner Ads</td>\n",
       "      <td>Fully Meets</td>\n",
       "    </tr>\n",
       "    <tr>\n",
       "      <th>2</th>\n",
       "      <td>Steans, Tyrone</td>\n",
       "      <td>1.302053e+09</td>\n",
       "      <td>MA</td>\n",
       "      <td>2703.0</td>\n",
       "      <td>9/1/86</td>\n",
       "      <td>31.0</td>\n",
       "      <td>Male</td>\n",
       "      <td>Single</td>\n",
       "      <td>US Citizen</td>\n",
       "      <td>No</td>\n",
       "      <td>White</td>\n",
       "      <td>9/29/14</td>\n",
       "      <td>NaN</td>\n",
       "      <td>N/A - still employed</td>\n",
       "      <td>Active</td>\n",
       "      <td>Admin Offices</td>\n",
       "      <td>Accountant I</td>\n",
       "      <td>29.00</td>\n",
       "      <td>Brandon R. LeBlanc</td>\n",
       "      <td>Internet Search</td>\n",
       "      <td>Fully Meets</td>\n",
       "    </tr>\n",
       "    <tr>\n",
       "      <th>3</th>\n",
       "      <td>Howard, Estelle</td>\n",
       "      <td>1.211051e+09</td>\n",
       "      <td>MA</td>\n",
       "      <td>2170.0</td>\n",
       "      <td>9/16/85</td>\n",
       "      <td>32.0</td>\n",
       "      <td>Female</td>\n",
       "      <td>Married</td>\n",
       "      <td>US Citizen</td>\n",
       "      <td>No</td>\n",
       "      <td>White</td>\n",
       "      <td>2/16/15</td>\n",
       "      <td>4/15/15</td>\n",
       "      <td>N/A - still employed</td>\n",
       "      <td>Active</td>\n",
       "      <td>Admin Offices</td>\n",
       "      <td>Administrative Assistant</td>\n",
       "      <td>21.50</td>\n",
       "      <td>Brandon R. LeBlanc</td>\n",
       "      <td>Pay Per Click - Google</td>\n",
       "      <td>N/A- too early to review</td>\n",
       "    </tr>\n",
       "    <tr>\n",
       "      <th>4</th>\n",
       "      <td>Singh, Nan</td>\n",
       "      <td>1.307060e+09</td>\n",
       "      <td>MA</td>\n",
       "      <td>2330.0</td>\n",
       "      <td>5/19/88</td>\n",
       "      <td>29.0</td>\n",
       "      <td>Female</td>\n",
       "      <td>Single</td>\n",
       "      <td>US Citizen</td>\n",
       "      <td>No</td>\n",
       "      <td>White</td>\n",
       "      <td>5/1/15</td>\n",
       "      <td>NaN</td>\n",
       "      <td>N/A - still employed</td>\n",
       "      <td>Active</td>\n",
       "      <td>Admin Offices</td>\n",
       "      <td>Administrative Assistant</td>\n",
       "      <td>16.56</td>\n",
       "      <td>Brandon R. LeBlanc</td>\n",
       "      <td>Website Banner Ads</td>\n",
       "      <td>N/A- too early to review</td>\n",
       "    </tr>\n",
       "  </tbody>\n",
       "</table>\n",
       "</div>"
      ],
      "text/plain": [
       "          employee_name  employee_number state     zip     d_o_b   age  \\\n",
       "0            Brown, Mia     1.103024e+09    MA  1450.0  11/24/85  32.0   \n",
       "1  LaRotonda, William       1.106027e+09    MA  1460.0   4/26/84  33.0   \n",
       "2      Steans, Tyrone       1.302053e+09    MA  2703.0    9/1/86  31.0   \n",
       "3       Howard, Estelle     1.211051e+09    MA  2170.0   9/16/85  32.0   \n",
       "4           Singh, Nan      1.307060e+09    MA  2330.0   5/19/88  29.0   \n",
       "\n",
       "      sex marital_desc citizen_desc hispanic_latino  \\\n",
       "0  Female      Married   US Citizen              No   \n",
       "1    Male     Divorced   US Citizen              No   \n",
       "2    Male       Single   US Citizen              No   \n",
       "3  Female      Married   US Citizen              No   \n",
       "4  Female       Single   US Citizen              No   \n",
       "\n",
       "                   race_desc dateof_hire dateof_termination  \\\n",
       "0  Black or African American    10/27/08                NaN   \n",
       "1  Black or African American      1/6/14                NaN   \n",
       "2                      White     9/29/14                NaN   \n",
       "3                      White     2/16/15            4/15/15   \n",
       "4                      White      5/1/15                NaN   \n",
       "\n",
       "        reason_for_term employment_status     department  \\\n",
       "0  N/A - still employed            Active  Admin Offices   \n",
       "1  N/A - still employed            Active  Admin Offices   \n",
       "2  N/A - still employed            Active  Admin Offices   \n",
       "3  N/A - still employed            Active  Admin Offices   \n",
       "4  N/A - still employed            Active  Admin Offices   \n",
       "\n",
       "                   position  pay_rate        manager_name  \\\n",
       "0              Accountant I     28.50  Brandon R. LeBlanc   \n",
       "1              Accountant I     23.00  Brandon R. LeBlanc   \n",
       "2              Accountant I     29.00  Brandon R. LeBlanc   \n",
       "3  Administrative Assistant     21.50  Brandon R. LeBlanc   \n",
       "4  Administrative Assistant     16.56  Brandon R. LeBlanc   \n",
       "\n",
       "          employee_source         performance_score  \n",
       "0      Diversity Job Fair               Fully Meets  \n",
       "1      Website Banner Ads               Fully Meets  \n",
       "2         Internet Search               Fully Meets  \n",
       "3  Pay Per Click - Google  N/A- too early to review  \n",
       "4      Website Banner Ads  N/A- too early to review  "
      ]
     },
     "execution_count": 26,
     "metadata": {},
     "output_type": "execute_result"
    }
   ],
   "source": [
    "data.columns=[re.sub(r'(?<!^)(?=[A-Z])', '_', e).lower().replace('/', '').replace(' ', '') for e in data.columns]\n",
    "\n",
    "data.head()"
   ]
  },
  {
   "cell_type": "code",
   "execution_count": 27,
   "id": "e0758484",
   "metadata": {},
   "outputs": [
    {
     "name": "stdout",
     "output_type": "stream",
     "text": [
      "<class 'pandas.core.frame.DataFrame'>\n",
      "RangeIndex: 302 entries, 0 to 301\n",
      "Data columns (total 21 columns):\n",
      " #   Column              Non-Null Count  Dtype  \n",
      "---  ------              --------------  -----  \n",
      " 0   employee_name       301 non-null    object \n",
      " 1   employee_number     301 non-null    float64\n",
      " 2   state               301 non-null    object \n",
      " 3   zip                 301 non-null    float64\n",
      " 4   d_o_b               301 non-null    object \n",
      " 5   age                 301 non-null    float64\n",
      " 6   sex                 301 non-null    object \n",
      " 7   marital_desc        301 non-null    object \n",
      " 8   citizen_desc        301 non-null    object \n",
      " 9   hispanic_latino     301 non-null    object \n",
      " 10  race_desc           301 non-null    object \n",
      " 11  dateof_hire         301 non-null    object \n",
      " 12  dateof_termination  103 non-null    object \n",
      " 13  reason_for_term     301 non-null    object \n",
      " 14  employment_status   301 non-null    object \n",
      " 15  department          301 non-null    object \n",
      " 16  position            301 non-null    object \n",
      " 17  pay_rate            301 non-null    float64\n",
      " 18  manager_name        301 non-null    object \n",
      " 19  employee_source     301 non-null    object \n",
      " 20  performance_score   301 non-null    object \n",
      "dtypes: float64(4), object(17)\n",
      "memory usage: 49.7+ KB\n"
     ]
    }
   ],
   "source": [
    "data.info()"
   ]
  },
  {
   "cell_type": "code",
   "execution_count": 28,
   "id": "06b3b797",
   "metadata": {},
   "outputs": [
    {
     "data": {
      "text/plain": [
       "employee_name           1\n",
       "employee_number         1\n",
       "state                   1\n",
       "zip                     1\n",
       "d_o_b                   1\n",
       "age                     1\n",
       "sex                     1\n",
       "marital_desc            1\n",
       "citizen_desc            1\n",
       "hispanic_latino         1\n",
       "race_desc               1\n",
       "dateof_hire             1\n",
       "dateof_termination    199\n",
       "reason_for_term         1\n",
       "employment_status       1\n",
       "department              1\n",
       "position                1\n",
       "pay_rate                1\n",
       "manager_name            1\n",
       "employee_source         1\n",
       "performance_score       1\n",
       "dtype: int64"
      ]
     },
     "execution_count": 28,
     "metadata": {},
     "output_type": "execute_result"
    }
   ],
   "source": [
    "data.isna().sum()"
   ]
  },
  {
   "cell_type": "code",
   "execution_count": 29,
   "id": "86223838",
   "metadata": {},
   "outputs": [
    {
     "data": {
      "image/png": "[encoded data removed]",
      "text/plain": [
       "<Figure size 720x432 with 1 Axes>"
      ]
     },
     "metadata": {
      "needs_background": "light"
     },
     "output_type": "display_data"
    }
   ],
   "source": [
    "# grafico de nulos en el dataframe\n",
    "\n",
    "plt.figure(figsize=(10, 6))\n",
    "\n",
    "sns.heatmap(data.isna(),  # mapa de calor\n",
    "            yticklabels=False,\n",
    "            cmap='viridis',\n",
    "            cbar=False);"
   ]
  },
  {
   "cell_type": "code",
   "execution_count": 30,
   "id": "803f4826",
   "metadata": {},
   "outputs": [],
   "source": [
    "data.dropna(how='all', axis=0, inplace=True)"
   ]
  },
  {
   "cell_type": "code",
   "execution_count": 31,
   "id": "5492f4bf",
   "metadata": {},
   "outputs": [
    {
     "data": {
      "text/plain": [
       "(301, 21)"
      ]
     },
     "execution_count": 31,
     "metadata": {},
     "output_type": "execute_result"
    }
   ],
   "source": [
    "data.shape"
   ]
  },
  {
   "cell_type": "code",
   "execution_count": 32,
   "id": "5f47db2b",
   "metadata": {},
   "outputs": [
    {
     "data": {
      "text/plain": [
       "array(['Female', 'Male', 'male'], dtype=object)"
      ]
     },
     "execution_count": 32,
     "metadata": {},
     "output_type": "execute_result"
    }
   ],
   "source": [
    "data.sex.unique()"
   ]
  },
  {
   "cell_type": "code",
   "execution_count": 33,
   "id": "18a60f92",
   "metadata": {},
   "outputs": [
    {
     "data": {
      "text/plain": [
       "array(['Female', 'Male'], dtype=object)"
      ]
     },
     "execution_count": 33,
     "metadata": {},
     "output_type": "execute_result"
    }
   ],
   "source": [
    "data.sex.replace('male','Male', inplace=True)\n",
    "\n",
    "data.sex.unique()"
   ]
  },
  {
   "cell_type": "code",
   "execution_count": 34,
   "id": "a3b7a18a",
   "metadata": {
    "scrolled": false
   },
   "outputs": [
    {
     "name": "stdout",
     "output_type": "stream",
     "text": [
      "<class 'pandas.core.frame.DataFrame'>\n",
      "Int64Index: 301 entries, 0 to 300\n",
      "Data columns (total 21 columns):\n",
      " #   Column              Non-Null Count  Dtype  \n",
      "---  ------              --------------  -----  \n",
      " 0   employee_name       301 non-null    object \n",
      " 1   employee_number     301 non-null    float64\n",
      " 2   state               301 non-null    object \n",
      " 3   zip                 301 non-null    float64\n",
      " 4   d_o_b               301 non-null    object \n",
      " 5   age                 301 non-null    float64\n",
      " 6   sex                 301 non-null    object \n",
      " 7   marital_desc        301 non-null    object \n",
      " 8   citizen_desc        301 non-null    object \n",
      " 9   hispanic_latino     301 non-null    object \n",
      " 10  race_desc           301 non-null    object \n",
      " 11  dateof_hire         301 non-null    object \n",
      " 12  dateof_termination  103 non-null    object \n",
      " 13  reason_for_term     301 non-null    object \n",
      " 14  employment_status   301 non-null    object \n",
      " 15  department          301 non-null    object \n",
      " 16  position            301 non-null    object \n",
      " 17  pay_rate            301 non-null    float64\n",
      " 18  manager_name        301 non-null    object \n",
      " 19  employee_source     301 non-null    object \n",
      " 20  performance_score   301 non-null    object \n",
      "dtypes: float64(4), object(17)\n",
      "memory usage: 51.7+ KB\n"
     ]
    }
   ],
   "source": [
    "data.info()"
   ]
  },
  {
   "cell_type": "code",
   "execution_count": 35,
   "id": "b7856ce1",
   "metadata": {},
   "outputs": [],
   "source": [
    "data.fillna(0, inplace=True)"
   ]
  },
  {
   "cell_type": "code",
   "execution_count": 36,
   "id": "eb67ea95",
   "metadata": {},
   "outputs": [
    {
     "data": {
      "image/png": "[encoded data removed]",
      "text/plain": [
       "<Figure size 432x288 with 1 Axes>"
      ]
     },
     "metadata": {
      "needs_background": "light"
     },
     "output_type": "display_data"
    }
   ],
   "source": [
    "chart=sns.barplot(x = 'performance_score', y = 'pay_rate', data=data, palette='Set1', ci=None)\n",
    "chart.set_xticklabels(chart.get_xticklabels(),rotation=80);"
   ]
  },
  {
   "cell_type": "code",
   "execution_count": null,
   "id": "f789582d",
   "metadata": {},
   "outputs": [],
   "source": []
  },
  {
   "cell_type": "code",
   "execution_count": 45,
   "id": "70da075e",
   "metadata": {},
   "outputs": [
    {
     "data": {
      "image/png": "[encoded data removed]",
      "text/plain": [
       "<Figure size 432x288 with 1 Axes>"
      ]
     },
     "metadata": {
      "needs_background": "light"
     },
     "output_type": "display_data"
    }
   ],
   "source": [
    "sort_data=data.sort_values('pay_rate').reset_index(drop=True)\n",
    "\n",
    "chart=sns.barplot(x = 'position', y = 'pay_rate', data=sort_data, palette='Set1', ci = None)\n",
    "\n",
    "chart.set_xticklabels(chart.get_xticklabels(),rotation=85);"
   ]
  },
  {
   "cell_type": "code",
   "execution_count": null,
   "id": "f1603462",
   "metadata": {},
   "outputs": [],
   "source": []
  },
  {
   "cell_type": "code",
   "execution_count": 42,
   "id": "d3e2c1be",
   "metadata": {},
   "outputs": [
    {
     "data": {
      "image/png": "[encoded data removed]",
      "text/plain": [
       "<Figure size 432x288 with 1 Axes>"
      ]
     },
     "metadata": {
      "needs_background": "light"
     },
     "output_type": "display_data"
    }
   ],
   "source": [
    "sns.barplot(x = 'sex', y = 'pay_rate', data=data, ci=None );"
   ]
  },
  {
   "cell_type": "code",
   "execution_count": null,
   "id": "fc019c70",
   "metadata": {},
   "outputs": [],
   "source": []
  },
  {
   "cell_type": "code",
   "execution_count": null,
   "id": "370726a0",
   "metadata": {},
   "outputs": [],
   "source": []
  },
  {
   "cell_type": "code",
   "execution_count": null,
   "id": "05ba0162",
   "metadata": {},
   "outputs": [],
   "source": []
  },
  {
   "cell_type": "code",
   "execution_count": null,
   "id": "50404cf4",
   "metadata": {},
   "outputs": [],
   "source": []
  },
  {
   "cell_type": "code",
   "execution_count": null,
   "id": "cfcd80fd",
   "metadata": {},
   "outputs": [],
   "source": []
  },
  {
   "cell_type": "code",
   "execution_count": null,
   "id": "d0d2d734",
   "metadata": {},
   "outputs": [],
   "source": []
  }
 ],
 "metadata": {
  "kernelspec": {
   "display_name": "clase",
   "language": "python",
   "name": "clase"
  },
  "language_info": {
   "codemirror_mode": {
    "name": "ipython",
    "version": 3
   },
   "file_extension": ".py",
   "mimetype": "text/x-python",
   "name": "python",
   "nbconvert_exporter": "python",
   "pygments_lexer": "ipython3",
   "version": "3.9.7"
  }
 },
 "nbformat": 4,
 "nbformat_minor": 5
}
